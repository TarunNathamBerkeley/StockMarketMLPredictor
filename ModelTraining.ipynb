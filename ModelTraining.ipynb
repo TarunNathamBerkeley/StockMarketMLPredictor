{
  "nbformat": 4,
  "nbformat_minor": 0,
  "metadata": {
    "colab": {
      "provenance": [],
      "authorship_tag": "ABX9TyNWaYlxVlT91J85iqJIJdIi",
      "include_colab_link": true
    },
    "kernelspec": {
      "name": "python3",
      "display_name": "Python 3"
    },
    "language_info": {
      "name": "python"
    }
  },
  "cells": [
    {
      "cell_type": "markdown",
      "metadata": {
        "id": "view-in-github",
        "colab_type": "text"
      },
      "source": [
        "<a href=\"https://colab.research.google.com/github/TarunNathamBerkeley/StockMarketMLPredictor/blob/main/ModelTraining.ipynb\" target=\"_parent\"><img src=\"https://colab.research.google.com/assets/colab-badge.svg\" alt=\"Open In Colab\"/></a>"
      ]
    },
    {
      "cell_type": "code",
      "execution_count": null,
      "metadata": {
        "colab": {
          "base_uri": "https://localhost:8080/"
        },
        "id": "C7PU1eAzXblJ",
        "outputId": "da6d0a3e-a029-41e3-9efe-daaa390463d9"
      },
      "outputs": [
        {
          "output_type": "stream",
          "name": "stderr",
          "text": [
            "[nltk_data] Downloading package punkt to /root/nltk_data...\n",
            "[nltk_data]   Package punkt is already up-to-date!\n",
            "[nltk_data] Downloading package stopwords to /root/nltk_data...\n",
            "[nltk_data]   Package stopwords is already up-to-date!\n"
          ]
        },
        {
          "output_type": "stream",
          "name": "stdout",
          "text": [
            "Drive already mounted at /content/drive; to attempt to forcibly remount, call drive.mount(\"/content/drive\", force_remount=True).\n",
            "'Copy of data_processing.ipynb'\n",
            "'Copy of Dow Jones Industrial Average Historical Data.csv'\n",
            "'Copy of twitter_sentiment.csv'\n",
            " data_processing.ipynb\n",
            "'Dow Jones Industrial Average Historical Data.csv'\n",
            "'High Level Model.gdoc'\n",
            " model_training\n",
            " one-month-tweets.csv\n",
            " sentiment.csv\n",
            " tweet_data_two_years.csv\n",
            " tweet_dataV1.csv\n",
            " tweets_labeled.csv\n",
            " tweets_remaining_09042020_16072020.csv\n",
            " twitter_sentiment.csv\n"
          ]
        }
      ],
      "source": [
        "import nltk\n",
        "nltk.download('punkt')\n",
        "nltk.download('stopwords')\n",
        "from nltk.corpus import stopwords\n",
        "import string\n",
        "import pandas as pd\n",
        "import numpy as np\n",
        "from google.colab import drive\n",
        "import os\n",
        "from sklearn.model_selection import train_test_split\n",
        "from nltk.tokenize import word_tokenize\n",
        "import matplotlib.pyplot as plt\n",
        "import datetime as dt\n",
        "import re\n",
        "\n",
        "drive.mount('/content/drive')\n",
        "os.chdir('/content/drive/MyDrive/Data')\n",
        "!ls"
      ]
    },
    {
      "cell_type": "code",
      "source": [
        "df = pd.read_csv('tweet_dataV1.csv')"
      ],
      "metadata": {
        "id": "kr4cGlzvX5dB"
      },
      "execution_count": null,
      "outputs": []
    },
    {
      "cell_type": "code",
      "source": [
        "df = df.drop(\"Tweets-String\", axis=1)"
      ],
      "metadata": {
        "id": "XD8XwE1OYEb6"
      },
      "execution_count": null,
      "outputs": []
    },
    {
      "cell_type": "code",
      "source": [
        "df.head()"
      ],
      "metadata": {
        "colab": {
          "base_uri": "https://localhost:8080/",
          "height": 204
        },
        "id": "coyDE0lodfEh",
        "outputId": "4ab0419c-7ba4-4700-bb65-6120e8c8eee9"
      },
      "execution_count": null,
      "outputs": [
        {
          "output_type": "execute_result",
          "data": {
            "text/plain": [
              "   Unnamed: 0        Date                                             Tweets  \\\n",
              "0           0  2019-01-02  ['Grrr what does the market wants from #TSLA? ...   \n",
              "1           1  2019-01-03  ['Bought to open $TSLA at 299.00 and added to ...   \n",
              "2           2  2019-01-04                                                 []   \n",
              "3           3  2019-01-07  ['Rally holding on in the final hour, #Dow +11...   \n",
              "4           4  2019-01-08  ['Q for #TSLA tweeps: Do you plug-in for &lt;1...   \n",
              "\n",
              "  Movement  Movement-Numerical  \n",
              "0       Up                   1  \n",
              "1     Down                   0  \n",
              "2       Up                   1  \n",
              "3       Up                   1  \n",
              "4     Down                   0  "
            ],
            "text/html": [
              "\n",
              "  <div id=\"df-ba668ab7-70db-4189-ac64-61546b2f6820\">\n",
              "    <div class=\"colab-df-container\">\n",
              "      <div>\n",
              "<style scoped>\n",
              "    .dataframe tbody tr th:only-of-type {\n",
              "        vertical-align: middle;\n",
              "    }\n",
              "\n",
              "    .dataframe tbody tr th {\n",
              "        vertical-align: top;\n",
              "    }\n",
              "\n",
              "    .dataframe thead th {\n",
              "        text-align: right;\n",
              "    }\n",
              "</style>\n",
              "<table border=\"1\" class=\"dataframe\">\n",
              "  <thead>\n",
              "    <tr style=\"text-align: right;\">\n",
              "      <th></th>\n",
              "      <th>Unnamed: 0</th>\n",
              "      <th>Date</th>\n",
              "      <th>Tweets</th>\n",
              "      <th>Movement</th>\n",
              "      <th>Movement-Numerical</th>\n",
              "    </tr>\n",
              "  </thead>\n",
              "  <tbody>\n",
              "    <tr>\n",
              "      <th>0</th>\n",
              "      <td>0</td>\n",
              "      <td>2019-01-02</td>\n",
              "      <td>['Grrr what does the market wants from #TSLA? ...</td>\n",
              "      <td>Up</td>\n",
              "      <td>1</td>\n",
              "    </tr>\n",
              "    <tr>\n",
              "      <th>1</th>\n",
              "      <td>1</td>\n",
              "      <td>2019-01-03</td>\n",
              "      <td>['Bought to open $TSLA at 299.00 and added to ...</td>\n",
              "      <td>Down</td>\n",
              "      <td>0</td>\n",
              "    </tr>\n",
              "    <tr>\n",
              "      <th>2</th>\n",
              "      <td>2</td>\n",
              "      <td>2019-01-04</td>\n",
              "      <td>[]</td>\n",
              "      <td>Up</td>\n",
              "      <td>1</td>\n",
              "    </tr>\n",
              "    <tr>\n",
              "      <th>3</th>\n",
              "      <td>3</td>\n",
              "      <td>2019-01-07</td>\n",
              "      <td>['Rally holding on in the final hour, #Dow +11...</td>\n",
              "      <td>Up</td>\n",
              "      <td>1</td>\n",
              "    </tr>\n",
              "    <tr>\n",
              "      <th>4</th>\n",
              "      <td>4</td>\n",
              "      <td>2019-01-08</td>\n",
              "      <td>['Q for #TSLA tweeps: Do you plug-in for &amp;lt;1...</td>\n",
              "      <td>Down</td>\n",
              "      <td>0</td>\n",
              "    </tr>\n",
              "  </tbody>\n",
              "</table>\n",
              "</div>\n",
              "      <button class=\"colab-df-convert\" onclick=\"convertToInteractive('df-ba668ab7-70db-4189-ac64-61546b2f6820')\"\n",
              "              title=\"Convert this dataframe to an interactive table.\"\n",
              "              style=\"display:none;\">\n",
              "        \n",
              "  <svg xmlns=\"http://www.w3.org/2000/svg\" height=\"24px\"viewBox=\"0 0 24 24\"\n",
              "       width=\"24px\">\n",
              "    <path d=\"M0 0h24v24H0V0z\" fill=\"none\"/>\n",
              "    <path d=\"M18.56 5.44l.94 2.06.94-2.06 2.06-.94-2.06-.94-.94-2.06-.94 2.06-2.06.94zm-11 1L8.5 8.5l.94-2.06 2.06-.94-2.06-.94L8.5 2.5l-.94 2.06-2.06.94zm10 10l.94 2.06.94-2.06 2.06-.94-2.06-.94-.94-2.06-.94 2.06-2.06.94z\"/><path d=\"M17.41 7.96l-1.37-1.37c-.4-.4-.92-.59-1.43-.59-.52 0-1.04.2-1.43.59L10.3 9.45l-7.72 7.72c-.78.78-.78 2.05 0 2.83L4 21.41c.39.39.9.59 1.41.59.51 0 1.02-.2 1.41-.59l7.78-7.78 2.81-2.81c.8-.78.8-2.07 0-2.86zM5.41 20L4 18.59l7.72-7.72 1.47 1.35L5.41 20z\"/>\n",
              "  </svg>\n",
              "      </button>\n",
              "      \n",
              "  <style>\n",
              "    .colab-df-container {\n",
              "      display:flex;\n",
              "      flex-wrap:wrap;\n",
              "      gap: 12px;\n",
              "    }\n",
              "\n",
              "    .colab-df-convert {\n",
              "      background-color: #E8F0FE;\n",
              "      border: none;\n",
              "      border-radius: 50%;\n",
              "      cursor: pointer;\n",
              "      display: none;\n",
              "      fill: #1967D2;\n",
              "      height: 32px;\n",
              "      padding: 0 0 0 0;\n",
              "      width: 32px;\n",
              "    }\n",
              "\n",
              "    .colab-df-convert:hover {\n",
              "      background-color: #E2EBFA;\n",
              "      box-shadow: 0px 1px 2px rgba(60, 64, 67, 0.3), 0px 1px 3px 1px rgba(60, 64, 67, 0.15);\n",
              "      fill: #174EA6;\n",
              "    }\n",
              "\n",
              "    [theme=dark] .colab-df-convert {\n",
              "      background-color: #3B4455;\n",
              "      fill: #D2E3FC;\n",
              "    }\n",
              "\n",
              "    [theme=dark] .colab-df-convert:hover {\n",
              "      background-color: #434B5C;\n",
              "      box-shadow: 0px 1px 3px 1px rgba(0, 0, 0, 0.15);\n",
              "      filter: drop-shadow(0px 1px 2px rgba(0, 0, 0, 0.3));\n",
              "      fill: #FFFFFF;\n",
              "    }\n",
              "  </style>\n",
              "\n",
              "      <script>\n",
              "        const buttonEl =\n",
              "          document.querySelector('#df-ba668ab7-70db-4189-ac64-61546b2f6820 button.colab-df-convert');\n",
              "        buttonEl.style.display =\n",
              "          google.colab.kernel.accessAllowed ? 'block' : 'none';\n",
              "\n",
              "        async function convertToInteractive(key) {\n",
              "          const element = document.querySelector('#df-ba668ab7-70db-4189-ac64-61546b2f6820');\n",
              "          const dataTable =\n",
              "            await google.colab.kernel.invokeFunction('convertToInteractive',\n",
              "                                                     [key], {});\n",
              "          if (!dataTable) return;\n",
              "\n",
              "          const docLinkHtml = 'Like what you see? Visit the ' +\n",
              "            '<a target=\"_blank\" href=https://colab.research.google.com/notebooks/data_table.ipynb>data table notebook</a>'\n",
              "            + ' to learn more about interactive tables.';\n",
              "          element.innerHTML = '';\n",
              "          dataTable['output_type'] = 'display_data';\n",
              "          await google.colab.output.renderOutput(dataTable, element);\n",
              "          const docLink = document.createElement('div');\n",
              "          docLink.innerHTML = docLinkHtml;\n",
              "          element.appendChild(docLink);\n",
              "        }\n",
              "      </script>\n",
              "    </div>\n",
              "  </div>\n",
              "  "
            ]
          },
          "metadata": {},
          "execution_count": 131
        }
      ]
    },
    {
      "cell_type": "code",
      "source": [
        "df.count()"
      ],
      "metadata": {
        "colab": {
          "base_uri": "https://localhost:8080/"
        },
        "id": "iVl3gqnKdmMw",
        "outputId": "09530b13-172b-4df7-b039-f1e0989d012b"
      },
      "execution_count": null,
      "outputs": [
        {
          "output_type": "execute_result",
          "data": {
            "text/plain": [
              "Unnamed: 0            601\n",
              "Date                  601\n",
              "Tweets                601\n",
              "Movement              601\n",
              "Movement-Numerical    601\n",
              "dtype: int64"
            ]
          },
          "metadata": {},
          "execution_count": 132
        }
      ]
    },
    {
      "cell_type": "code",
      "source": [
        "df.head()"
      ],
      "metadata": {
        "colab": {
          "base_uri": "https://localhost:8080/",
          "height": 204
        },
        "id": "RshNeij1d3kt",
        "outputId": "7204bab4-eba6-4aec-cd52-e94650708a64"
      },
      "execution_count": null,
      "outputs": [
        {
          "output_type": "execute_result",
          "data": {
            "text/plain": [
              "   Unnamed: 0        Date                                             Tweets  \\\n",
              "0           0  2019-01-02  ['Grrr what does the market wants from #TSLA? ...   \n",
              "1           1  2019-01-03  ['Bought to open $TSLA at 299.00 and added to ...   \n",
              "2           2  2019-01-04                                                 []   \n",
              "3           3  2019-01-07  ['Rally holding on in the final hour, #Dow +11...   \n",
              "4           4  2019-01-08  ['Q for #TSLA tweeps: Do you plug-in for &lt;1...   \n",
              "\n",
              "  Movement  Movement-Numerical  \n",
              "0       Up                   1  \n",
              "1     Down                   0  \n",
              "2       Up                   1  \n",
              "3       Up                   1  \n",
              "4     Down                   0  "
            ],
            "text/html": [
              "\n",
              "  <div id=\"df-70b6ce06-ebde-427b-8cf7-72137a92bd20\">\n",
              "    <div class=\"colab-df-container\">\n",
              "      <div>\n",
              "<style scoped>\n",
              "    .dataframe tbody tr th:only-of-type {\n",
              "        vertical-align: middle;\n",
              "    }\n",
              "\n",
              "    .dataframe tbody tr th {\n",
              "        vertical-align: top;\n",
              "    }\n",
              "\n",
              "    .dataframe thead th {\n",
              "        text-align: right;\n",
              "    }\n",
              "</style>\n",
              "<table border=\"1\" class=\"dataframe\">\n",
              "  <thead>\n",
              "    <tr style=\"text-align: right;\">\n",
              "      <th></th>\n",
              "      <th>Unnamed: 0</th>\n",
              "      <th>Date</th>\n",
              "      <th>Tweets</th>\n",
              "      <th>Movement</th>\n",
              "      <th>Movement-Numerical</th>\n",
              "    </tr>\n",
              "  </thead>\n",
              "  <tbody>\n",
              "    <tr>\n",
              "      <th>0</th>\n",
              "      <td>0</td>\n",
              "      <td>2019-01-02</td>\n",
              "      <td>['Grrr what does the market wants from #TSLA? ...</td>\n",
              "      <td>Up</td>\n",
              "      <td>1</td>\n",
              "    </tr>\n",
              "    <tr>\n",
              "      <th>1</th>\n",
              "      <td>1</td>\n",
              "      <td>2019-01-03</td>\n",
              "      <td>['Bought to open $TSLA at 299.00 and added to ...</td>\n",
              "      <td>Down</td>\n",
              "      <td>0</td>\n",
              "    </tr>\n",
              "    <tr>\n",
              "      <th>2</th>\n",
              "      <td>2</td>\n",
              "      <td>2019-01-04</td>\n",
              "      <td>[]</td>\n",
              "      <td>Up</td>\n",
              "      <td>1</td>\n",
              "    </tr>\n",
              "    <tr>\n",
              "      <th>3</th>\n",
              "      <td>3</td>\n",
              "      <td>2019-01-07</td>\n",
              "      <td>['Rally holding on in the final hour, #Dow +11...</td>\n",
              "      <td>Up</td>\n",
              "      <td>1</td>\n",
              "    </tr>\n",
              "    <tr>\n",
              "      <th>4</th>\n",
              "      <td>4</td>\n",
              "      <td>2019-01-08</td>\n",
              "      <td>['Q for #TSLA tweeps: Do you plug-in for &amp;lt;1...</td>\n",
              "      <td>Down</td>\n",
              "      <td>0</td>\n",
              "    </tr>\n",
              "  </tbody>\n",
              "</table>\n",
              "</div>\n",
              "      <button class=\"colab-df-convert\" onclick=\"convertToInteractive('df-70b6ce06-ebde-427b-8cf7-72137a92bd20')\"\n",
              "              title=\"Convert this dataframe to an interactive table.\"\n",
              "              style=\"display:none;\">\n",
              "        \n",
              "  <svg xmlns=\"http://www.w3.org/2000/svg\" height=\"24px\"viewBox=\"0 0 24 24\"\n",
              "       width=\"24px\">\n",
              "    <path d=\"M0 0h24v24H0V0z\" fill=\"none\"/>\n",
              "    <path d=\"M18.56 5.44l.94 2.06.94-2.06 2.06-.94-2.06-.94-.94-2.06-.94 2.06-2.06.94zm-11 1L8.5 8.5l.94-2.06 2.06-.94-2.06-.94L8.5 2.5l-.94 2.06-2.06.94zm10 10l.94 2.06.94-2.06 2.06-.94-2.06-.94-.94-2.06-.94 2.06-2.06.94z\"/><path d=\"M17.41 7.96l-1.37-1.37c-.4-.4-.92-.59-1.43-.59-.52 0-1.04.2-1.43.59L10.3 9.45l-7.72 7.72c-.78.78-.78 2.05 0 2.83L4 21.41c.39.39.9.59 1.41.59.51 0 1.02-.2 1.41-.59l7.78-7.78 2.81-2.81c.8-.78.8-2.07 0-2.86zM5.41 20L4 18.59l7.72-7.72 1.47 1.35L5.41 20z\"/>\n",
              "  </svg>\n",
              "      </button>\n",
              "      \n",
              "  <style>\n",
              "    .colab-df-container {\n",
              "      display:flex;\n",
              "      flex-wrap:wrap;\n",
              "      gap: 12px;\n",
              "    }\n",
              "\n",
              "    .colab-df-convert {\n",
              "      background-color: #E8F0FE;\n",
              "      border: none;\n",
              "      border-radius: 50%;\n",
              "      cursor: pointer;\n",
              "      display: none;\n",
              "      fill: #1967D2;\n",
              "      height: 32px;\n",
              "      padding: 0 0 0 0;\n",
              "      width: 32px;\n",
              "    }\n",
              "\n",
              "    .colab-df-convert:hover {\n",
              "      background-color: #E2EBFA;\n",
              "      box-shadow: 0px 1px 2px rgba(60, 64, 67, 0.3), 0px 1px 3px 1px rgba(60, 64, 67, 0.15);\n",
              "      fill: #174EA6;\n",
              "    }\n",
              "\n",
              "    [theme=dark] .colab-df-convert {\n",
              "      background-color: #3B4455;\n",
              "      fill: #D2E3FC;\n",
              "    }\n",
              "\n",
              "    [theme=dark] .colab-df-convert:hover {\n",
              "      background-color: #434B5C;\n",
              "      box-shadow: 0px 1px 3px 1px rgba(0, 0, 0, 0.15);\n",
              "      filter: drop-shadow(0px 1px 2px rgba(0, 0, 0, 0.3));\n",
              "      fill: #FFFFFF;\n",
              "    }\n",
              "  </style>\n",
              "\n",
              "      <script>\n",
              "        const buttonEl =\n",
              "          document.querySelector('#df-70b6ce06-ebde-427b-8cf7-72137a92bd20 button.colab-df-convert');\n",
              "        buttonEl.style.display =\n",
              "          google.colab.kernel.accessAllowed ? 'block' : 'none';\n",
              "\n",
              "        async function convertToInteractive(key) {\n",
              "          const element = document.querySelector('#df-70b6ce06-ebde-427b-8cf7-72137a92bd20');\n",
              "          const dataTable =\n",
              "            await google.colab.kernel.invokeFunction('convertToInteractive',\n",
              "                                                     [key], {});\n",
              "          if (!dataTable) return;\n",
              "\n",
              "          const docLinkHtml = 'Like what you see? Visit the ' +\n",
              "            '<a target=\"_blank\" href=https://colab.research.google.com/notebooks/data_table.ipynb>data table notebook</a>'\n",
              "            + ' to learn more about interactive tables.';\n",
              "          element.innerHTML = '';\n",
              "          dataTable['output_type'] = 'display_data';\n",
              "          await google.colab.output.renderOutput(dataTable, element);\n",
              "          const docLink = document.createElement('div');\n",
              "          docLink.innerHTML = docLinkHtml;\n",
              "          element.appendChild(docLink);\n",
              "        }\n",
              "      </script>\n",
              "    </div>\n",
              "  </div>\n",
              "  "
            ]
          },
          "metadata": {},
          "execution_count": 133
        }
      ]
    },
    {
      "cell_type": "code",
      "source": [
        "df.head()"
      ],
      "metadata": {
        "colab": {
          "base_uri": "https://localhost:8080/",
          "height": 204
        },
        "id": "cII_atObe2VY",
        "outputId": "247dc985-88f3-4403-fa80-b05384855551"
      },
      "execution_count": null,
      "outputs": [
        {
          "output_type": "execute_result",
          "data": {
            "text/plain": [
              "   Unnamed: 0        Date                                             Tweets  \\\n",
              "0           0  2019-01-02  ['Grrr what does the market wants from #TSLA? ...   \n",
              "1           1  2019-01-03  ['Bought to open $TSLA at 299.00 and added to ...   \n",
              "2           2  2019-01-04                                                 []   \n",
              "3           3  2019-01-07  ['Rally holding on in the final hour, #Dow +11...   \n",
              "4           4  2019-01-08  ['Q for #TSLA tweeps: Do you plug-in for &lt;1...   \n",
              "\n",
              "  Movement  Movement-Numerical  \n",
              "0       Up                   1  \n",
              "1     Down                   0  \n",
              "2       Up                   1  \n",
              "3       Up                   1  \n",
              "4     Down                   0  "
            ],
            "text/html": [
              "\n",
              "  <div id=\"df-f6b5d1e0-2d69-4985-a6bb-612317bbfb39\">\n",
              "    <div class=\"colab-df-container\">\n",
              "      <div>\n",
              "<style scoped>\n",
              "    .dataframe tbody tr th:only-of-type {\n",
              "        vertical-align: middle;\n",
              "    }\n",
              "\n",
              "    .dataframe tbody tr th {\n",
              "        vertical-align: top;\n",
              "    }\n",
              "\n",
              "    .dataframe thead th {\n",
              "        text-align: right;\n",
              "    }\n",
              "</style>\n",
              "<table border=\"1\" class=\"dataframe\">\n",
              "  <thead>\n",
              "    <tr style=\"text-align: right;\">\n",
              "      <th></th>\n",
              "      <th>Unnamed: 0</th>\n",
              "      <th>Date</th>\n",
              "      <th>Tweets</th>\n",
              "      <th>Movement</th>\n",
              "      <th>Movement-Numerical</th>\n",
              "    </tr>\n",
              "  </thead>\n",
              "  <tbody>\n",
              "    <tr>\n",
              "      <th>0</th>\n",
              "      <td>0</td>\n",
              "      <td>2019-01-02</td>\n",
              "      <td>['Grrr what does the market wants from #TSLA? ...</td>\n",
              "      <td>Up</td>\n",
              "      <td>1</td>\n",
              "    </tr>\n",
              "    <tr>\n",
              "      <th>1</th>\n",
              "      <td>1</td>\n",
              "      <td>2019-01-03</td>\n",
              "      <td>['Bought to open $TSLA at 299.00 and added to ...</td>\n",
              "      <td>Down</td>\n",
              "      <td>0</td>\n",
              "    </tr>\n",
              "    <tr>\n",
              "      <th>2</th>\n",
              "      <td>2</td>\n",
              "      <td>2019-01-04</td>\n",
              "      <td>[]</td>\n",
              "      <td>Up</td>\n",
              "      <td>1</td>\n",
              "    </tr>\n",
              "    <tr>\n",
              "      <th>3</th>\n",
              "      <td>3</td>\n",
              "      <td>2019-01-07</td>\n",
              "      <td>['Rally holding on in the final hour, #Dow +11...</td>\n",
              "      <td>Up</td>\n",
              "      <td>1</td>\n",
              "    </tr>\n",
              "    <tr>\n",
              "      <th>4</th>\n",
              "      <td>4</td>\n",
              "      <td>2019-01-08</td>\n",
              "      <td>['Q for #TSLA tweeps: Do you plug-in for &amp;lt;1...</td>\n",
              "      <td>Down</td>\n",
              "      <td>0</td>\n",
              "    </tr>\n",
              "  </tbody>\n",
              "</table>\n",
              "</div>\n",
              "      <button class=\"colab-df-convert\" onclick=\"convertToInteractive('df-f6b5d1e0-2d69-4985-a6bb-612317bbfb39')\"\n",
              "              title=\"Convert this dataframe to an interactive table.\"\n",
              "              style=\"display:none;\">\n",
              "        \n",
              "  <svg xmlns=\"http://www.w3.org/2000/svg\" height=\"24px\"viewBox=\"0 0 24 24\"\n",
              "       width=\"24px\">\n",
              "    <path d=\"M0 0h24v24H0V0z\" fill=\"none\"/>\n",
              "    <path d=\"M18.56 5.44l.94 2.06.94-2.06 2.06-.94-2.06-.94-.94-2.06-.94 2.06-2.06.94zm-11 1L8.5 8.5l.94-2.06 2.06-.94-2.06-.94L8.5 2.5l-.94 2.06-2.06.94zm10 10l.94 2.06.94-2.06 2.06-.94-2.06-.94-.94-2.06-.94 2.06-2.06.94z\"/><path d=\"M17.41 7.96l-1.37-1.37c-.4-.4-.92-.59-1.43-.59-.52 0-1.04.2-1.43.59L10.3 9.45l-7.72 7.72c-.78.78-.78 2.05 0 2.83L4 21.41c.39.39.9.59 1.41.59.51 0 1.02-.2 1.41-.59l7.78-7.78 2.81-2.81c.8-.78.8-2.07 0-2.86zM5.41 20L4 18.59l7.72-7.72 1.47 1.35L5.41 20z\"/>\n",
              "  </svg>\n",
              "      </button>\n",
              "      \n",
              "  <style>\n",
              "    .colab-df-container {\n",
              "      display:flex;\n",
              "      flex-wrap:wrap;\n",
              "      gap: 12px;\n",
              "    }\n",
              "\n",
              "    .colab-df-convert {\n",
              "      background-color: #E8F0FE;\n",
              "      border: none;\n",
              "      border-radius: 50%;\n",
              "      cursor: pointer;\n",
              "      display: none;\n",
              "      fill: #1967D2;\n",
              "      height: 32px;\n",
              "      padding: 0 0 0 0;\n",
              "      width: 32px;\n",
              "    }\n",
              "\n",
              "    .colab-df-convert:hover {\n",
              "      background-color: #E2EBFA;\n",
              "      box-shadow: 0px 1px 2px rgba(60, 64, 67, 0.3), 0px 1px 3px 1px rgba(60, 64, 67, 0.15);\n",
              "      fill: #174EA6;\n",
              "    }\n",
              "\n",
              "    [theme=dark] .colab-df-convert {\n",
              "      background-color: #3B4455;\n",
              "      fill: #D2E3FC;\n",
              "    }\n",
              "\n",
              "    [theme=dark] .colab-df-convert:hover {\n",
              "      background-color: #434B5C;\n",
              "      box-shadow: 0px 1px 3px 1px rgba(0, 0, 0, 0.15);\n",
              "      filter: drop-shadow(0px 1px 2px rgba(0, 0, 0, 0.3));\n",
              "      fill: #FFFFFF;\n",
              "    }\n",
              "  </style>\n",
              "\n",
              "      <script>\n",
              "        const buttonEl =\n",
              "          document.querySelector('#df-f6b5d1e0-2d69-4985-a6bb-612317bbfb39 button.colab-df-convert');\n",
              "        buttonEl.style.display =\n",
              "          google.colab.kernel.accessAllowed ? 'block' : 'none';\n",
              "\n",
              "        async function convertToInteractive(key) {\n",
              "          const element = document.querySelector('#df-f6b5d1e0-2d69-4985-a6bb-612317bbfb39');\n",
              "          const dataTable =\n",
              "            await google.colab.kernel.invokeFunction('convertToInteractive',\n",
              "                                                     [key], {});\n",
              "          if (!dataTable) return;\n",
              "\n",
              "          const docLinkHtml = 'Like what you see? Visit the ' +\n",
              "            '<a target=\"_blank\" href=https://colab.research.google.com/notebooks/data_table.ipynb>data table notebook</a>'\n",
              "            + ' to learn more about interactive tables.';\n",
              "          element.innerHTML = '';\n",
              "          dataTable['output_type'] = 'display_data';\n",
              "          await google.colab.output.renderOutput(dataTable, element);\n",
              "          const docLink = document.createElement('div');\n",
              "          docLink.innerHTML = docLinkHtml;\n",
              "          element.appendChild(docLink);\n",
              "        }\n",
              "      </script>\n",
              "    </div>\n",
              "  </div>\n",
              "  "
            ]
          },
          "metadata": {},
          "execution_count": 134
        }
      ]
    },
    {
      "cell_type": "code",
      "source": [
        "from sklearn.feature_extraction.text import TfidfVectorizer\n",
        "\n",
        "vectorizer = TfidfVectorizer()\n",
        "\n",
        "# Create a list to store the vector for each tweet\n",
        "tweet_vectors = []\n",
        "\n",
        "df['Tweets-String'] = df['Tweets'].apply(lambda x: \" \".join(eval(x)))\n",
        "\n",
        "# corpus = df['Tweets-String']\n",
        "# x = vectorizer.fit_transform(corpus)\n",
        "# print(x)\n",
        "\n",
        "# df['Tfidf'] = x"
      ],
      "metadata": {
        "id": "EiCnJ_egdYsa"
      },
      "execution_count": null,
      "outputs": []
    },
    {
      "cell_type": "code",
      "source": [
        "df.head()"
      ],
      "metadata": {
        "colab": {
          "base_uri": "https://localhost:8080/",
          "height": 204
        },
        "id": "0xnnLtkpd6Pk",
        "outputId": "89596587-44d0-4d57-bcfd-99a4bd6bddfc"
      },
      "execution_count": null,
      "outputs": [
        {
          "output_type": "execute_result",
          "data": {
            "text/plain": [
              "   Unnamed: 0        Date                                             Tweets  \\\n",
              "0           0  2019-01-02  ['Grrr what does the market wants from #TSLA? ...   \n",
              "1           1  2019-01-03  ['Bought to open $TSLA at 299.00 and added to ...   \n",
              "2           2  2019-01-04                                                 []   \n",
              "3           3  2019-01-07  ['Rally holding on in the final hour, #Dow +11...   \n",
              "4           4  2019-01-08  ['Q for #TSLA tweeps: Do you plug-in for &lt;1...   \n",
              "\n",
              "  Movement  Movement-Numerical  \\\n",
              "0       Up                   1   \n",
              "1     Down                   0   \n",
              "2       Up                   1   \n",
              "3       Up                   1   \n",
              "4     Down                   0   \n",
              "\n",
              "                                       Tweets-String  \n",
              "0  Grrr what does the market wants from #TSLA?  N...  \n",
              "1  Bought to open $TSLA at 299.00 and added to my...  \n",
              "2                                                     \n",
              "3  Rally holding on in the final hour, #Dow +118 ...  \n",
              "4  Q for #TSLA tweeps: Do you plug-in for &lt;1 h...  "
            ],
            "text/html": [
              "\n",
              "  <div id=\"df-0af37f03-1c15-436a-87b8-d73e27d9d109\">\n",
              "    <div class=\"colab-df-container\">\n",
              "      <div>\n",
              "<style scoped>\n",
              "    .dataframe tbody tr th:only-of-type {\n",
              "        vertical-align: middle;\n",
              "    }\n",
              "\n",
              "    .dataframe tbody tr th {\n",
              "        vertical-align: top;\n",
              "    }\n",
              "\n",
              "    .dataframe thead th {\n",
              "        text-align: right;\n",
              "    }\n",
              "</style>\n",
              "<table border=\"1\" class=\"dataframe\">\n",
              "  <thead>\n",
              "    <tr style=\"text-align: right;\">\n",
              "      <th></th>\n",
              "      <th>Unnamed: 0</th>\n",
              "      <th>Date</th>\n",
              "      <th>Tweets</th>\n",
              "      <th>Movement</th>\n",
              "      <th>Movement-Numerical</th>\n",
              "      <th>Tweets-String</th>\n",
              "    </tr>\n",
              "  </thead>\n",
              "  <tbody>\n",
              "    <tr>\n",
              "      <th>0</th>\n",
              "      <td>0</td>\n",
              "      <td>2019-01-02</td>\n",
              "      <td>['Grrr what does the market wants from #TSLA? ...</td>\n",
              "      <td>Up</td>\n",
              "      <td>1</td>\n",
              "      <td>Grrr what does the market wants from #TSLA?  N...</td>\n",
              "    </tr>\n",
              "    <tr>\n",
              "      <th>1</th>\n",
              "      <td>1</td>\n",
              "      <td>2019-01-03</td>\n",
              "      <td>['Bought to open $TSLA at 299.00 and added to ...</td>\n",
              "      <td>Down</td>\n",
              "      <td>0</td>\n",
              "      <td>Bought to open $TSLA at 299.00 and added to my...</td>\n",
              "    </tr>\n",
              "    <tr>\n",
              "      <th>2</th>\n",
              "      <td>2</td>\n",
              "      <td>2019-01-04</td>\n",
              "      <td>[]</td>\n",
              "      <td>Up</td>\n",
              "      <td>1</td>\n",
              "      <td></td>\n",
              "    </tr>\n",
              "    <tr>\n",
              "      <th>3</th>\n",
              "      <td>3</td>\n",
              "      <td>2019-01-07</td>\n",
              "      <td>['Rally holding on in the final hour, #Dow +11...</td>\n",
              "      <td>Up</td>\n",
              "      <td>1</td>\n",
              "      <td>Rally holding on in the final hour, #Dow +118 ...</td>\n",
              "    </tr>\n",
              "    <tr>\n",
              "      <th>4</th>\n",
              "      <td>4</td>\n",
              "      <td>2019-01-08</td>\n",
              "      <td>['Q for #TSLA tweeps: Do you plug-in for &amp;lt;1...</td>\n",
              "      <td>Down</td>\n",
              "      <td>0</td>\n",
              "      <td>Q for #TSLA tweeps: Do you plug-in for &amp;lt;1 h...</td>\n",
              "    </tr>\n",
              "  </tbody>\n",
              "</table>\n",
              "</div>\n",
              "      <button class=\"colab-df-convert\" onclick=\"convertToInteractive('df-0af37f03-1c15-436a-87b8-d73e27d9d109')\"\n",
              "              title=\"Convert this dataframe to an interactive table.\"\n",
              "              style=\"display:none;\">\n",
              "        \n",
              "  <svg xmlns=\"http://www.w3.org/2000/svg\" height=\"24px\"viewBox=\"0 0 24 24\"\n",
              "       width=\"24px\">\n",
              "    <path d=\"M0 0h24v24H0V0z\" fill=\"none\"/>\n",
              "    <path d=\"M18.56 5.44l.94 2.06.94-2.06 2.06-.94-2.06-.94-.94-2.06-.94 2.06-2.06.94zm-11 1L8.5 8.5l.94-2.06 2.06-.94-2.06-.94L8.5 2.5l-.94 2.06-2.06.94zm10 10l.94 2.06.94-2.06 2.06-.94-2.06-.94-.94-2.06-.94 2.06-2.06.94z\"/><path d=\"M17.41 7.96l-1.37-1.37c-.4-.4-.92-.59-1.43-.59-.52 0-1.04.2-1.43.59L10.3 9.45l-7.72 7.72c-.78.78-.78 2.05 0 2.83L4 21.41c.39.39.9.59 1.41.59.51 0 1.02-.2 1.41-.59l7.78-7.78 2.81-2.81c.8-.78.8-2.07 0-2.86zM5.41 20L4 18.59l7.72-7.72 1.47 1.35L5.41 20z\"/>\n",
              "  </svg>\n",
              "      </button>\n",
              "      \n",
              "  <style>\n",
              "    .colab-df-container {\n",
              "      display:flex;\n",
              "      flex-wrap:wrap;\n",
              "      gap: 12px;\n",
              "    }\n",
              "\n",
              "    .colab-df-convert {\n",
              "      background-color: #E8F0FE;\n",
              "      border: none;\n",
              "      border-radius: 50%;\n",
              "      cursor: pointer;\n",
              "      display: none;\n",
              "      fill: #1967D2;\n",
              "      height: 32px;\n",
              "      padding: 0 0 0 0;\n",
              "      width: 32px;\n",
              "    }\n",
              "\n",
              "    .colab-df-convert:hover {\n",
              "      background-color: #E2EBFA;\n",
              "      box-shadow: 0px 1px 2px rgba(60, 64, 67, 0.3), 0px 1px 3px 1px rgba(60, 64, 67, 0.15);\n",
              "      fill: #174EA6;\n",
              "    }\n",
              "\n",
              "    [theme=dark] .colab-df-convert {\n",
              "      background-color: #3B4455;\n",
              "      fill: #D2E3FC;\n",
              "    }\n",
              "\n",
              "    [theme=dark] .colab-df-convert:hover {\n",
              "      background-color: #434B5C;\n",
              "      box-shadow: 0px 1px 3px 1px rgba(0, 0, 0, 0.15);\n",
              "      filter: drop-shadow(0px 1px 2px rgba(0, 0, 0, 0.3));\n",
              "      fill: #FFFFFF;\n",
              "    }\n",
              "  </style>\n",
              "\n",
              "      <script>\n",
              "        const buttonEl =\n",
              "          document.querySelector('#df-0af37f03-1c15-436a-87b8-d73e27d9d109 button.colab-df-convert');\n",
              "        buttonEl.style.display =\n",
              "          google.colab.kernel.accessAllowed ? 'block' : 'none';\n",
              "\n",
              "        async function convertToInteractive(key) {\n",
              "          const element = document.querySelector('#df-0af37f03-1c15-436a-87b8-d73e27d9d109');\n",
              "          const dataTable =\n",
              "            await google.colab.kernel.invokeFunction('convertToInteractive',\n",
              "                                                     [key], {});\n",
              "          if (!dataTable) return;\n",
              "\n",
              "          const docLinkHtml = 'Like what you see? Visit the ' +\n",
              "            '<a target=\"_blank\" href=https://colab.research.google.com/notebooks/data_table.ipynb>data table notebook</a>'\n",
              "            + ' to learn more about interactive tables.';\n",
              "          element.innerHTML = '';\n",
              "          dataTable['output_type'] = 'display_data';\n",
              "          await google.colab.output.renderOutput(dataTable, element);\n",
              "          const docLink = document.createElement('div');\n",
              "          docLink.innerHTML = docLinkHtml;\n",
              "          element.appendChild(docLink);\n",
              "        }\n",
              "      </script>\n",
              "    </div>\n",
              "  </div>\n",
              "  "
            ]
          },
          "metadata": {},
          "execution_count": 136
        }
      ]
    },
    {
      "cell_type": "code",
      "source": [
        "from sklearn.pipeline import Pipeline\n",
        "from sklearn.metrics import accuracy_score"
      ],
      "metadata": {
        "id": "wjZNc3koZFT0"
      },
      "execution_count": null,
      "outputs": []
    },
    {
      "cell_type": "code",
      "source": [
        "df.head()"
      ],
      "metadata": {
        "colab": {
          "base_uri": "https://localhost:8080/",
          "height": 204
        },
        "id": "wMyhjq5yb6Wt",
        "outputId": "55198580-4864-4587-e177-d91be13495b8"
      },
      "execution_count": null,
      "outputs": [
        {
          "output_type": "execute_result",
          "data": {
            "text/plain": [
              "   Unnamed: 0        Date                                             Tweets  \\\n",
              "0           0  2019-01-02  ['Grrr what does the market wants from #TSLA? ...   \n",
              "1           1  2019-01-03  ['Bought to open $TSLA at 299.00 and added to ...   \n",
              "2           2  2019-01-04                                                 []   \n",
              "3           3  2019-01-07  ['Rally holding on in the final hour, #Dow +11...   \n",
              "4           4  2019-01-08  ['Q for #TSLA tweeps: Do you plug-in for &lt;1...   \n",
              "\n",
              "  Movement  Movement-Numerical  \\\n",
              "0       Up                   1   \n",
              "1     Down                   0   \n",
              "2       Up                   1   \n",
              "3       Up                   1   \n",
              "4     Down                   0   \n",
              "\n",
              "                                       Tweets-String  \n",
              "0  Grrr what does the market wants from #TSLA?  N...  \n",
              "1  Bought to open $TSLA at 299.00 and added to my...  \n",
              "2                                                     \n",
              "3  Rally holding on in the final hour, #Dow +118 ...  \n",
              "4  Q for #TSLA tweeps: Do you plug-in for &lt;1 h...  "
            ],
            "text/html": [
              "\n",
              "  <div id=\"df-13e03287-5283-497e-b2ee-f2de739e1aaa\">\n",
              "    <div class=\"colab-df-container\">\n",
              "      <div>\n",
              "<style scoped>\n",
              "    .dataframe tbody tr th:only-of-type {\n",
              "        vertical-align: middle;\n",
              "    }\n",
              "\n",
              "    .dataframe tbody tr th {\n",
              "        vertical-align: top;\n",
              "    }\n",
              "\n",
              "    .dataframe thead th {\n",
              "        text-align: right;\n",
              "    }\n",
              "</style>\n",
              "<table border=\"1\" class=\"dataframe\">\n",
              "  <thead>\n",
              "    <tr style=\"text-align: right;\">\n",
              "      <th></th>\n",
              "      <th>Unnamed: 0</th>\n",
              "      <th>Date</th>\n",
              "      <th>Tweets</th>\n",
              "      <th>Movement</th>\n",
              "      <th>Movement-Numerical</th>\n",
              "      <th>Tweets-String</th>\n",
              "    </tr>\n",
              "  </thead>\n",
              "  <tbody>\n",
              "    <tr>\n",
              "      <th>0</th>\n",
              "      <td>0</td>\n",
              "      <td>2019-01-02</td>\n",
              "      <td>['Grrr what does the market wants from #TSLA? ...</td>\n",
              "      <td>Up</td>\n",
              "      <td>1</td>\n",
              "      <td>Grrr what does the market wants from #TSLA?  N...</td>\n",
              "    </tr>\n",
              "    <tr>\n",
              "      <th>1</th>\n",
              "      <td>1</td>\n",
              "      <td>2019-01-03</td>\n",
              "      <td>['Bought to open $TSLA at 299.00 and added to ...</td>\n",
              "      <td>Down</td>\n",
              "      <td>0</td>\n",
              "      <td>Bought to open $TSLA at 299.00 and added to my...</td>\n",
              "    </tr>\n",
              "    <tr>\n",
              "      <th>2</th>\n",
              "      <td>2</td>\n",
              "      <td>2019-01-04</td>\n",
              "      <td>[]</td>\n",
              "      <td>Up</td>\n",
              "      <td>1</td>\n",
              "      <td></td>\n",
              "    </tr>\n",
              "    <tr>\n",
              "      <th>3</th>\n",
              "      <td>3</td>\n",
              "      <td>2019-01-07</td>\n",
              "      <td>['Rally holding on in the final hour, #Dow +11...</td>\n",
              "      <td>Up</td>\n",
              "      <td>1</td>\n",
              "      <td>Rally holding on in the final hour, #Dow +118 ...</td>\n",
              "    </tr>\n",
              "    <tr>\n",
              "      <th>4</th>\n",
              "      <td>4</td>\n",
              "      <td>2019-01-08</td>\n",
              "      <td>['Q for #TSLA tweeps: Do you plug-in for &amp;lt;1...</td>\n",
              "      <td>Down</td>\n",
              "      <td>0</td>\n",
              "      <td>Q for #TSLA tweeps: Do you plug-in for &amp;lt;1 h...</td>\n",
              "    </tr>\n",
              "  </tbody>\n",
              "</table>\n",
              "</div>\n",
              "      <button class=\"colab-df-convert\" onclick=\"convertToInteractive('df-13e03287-5283-497e-b2ee-f2de739e1aaa')\"\n",
              "              title=\"Convert this dataframe to an interactive table.\"\n",
              "              style=\"display:none;\">\n",
              "        \n",
              "  <svg xmlns=\"http://www.w3.org/2000/svg\" height=\"24px\"viewBox=\"0 0 24 24\"\n",
              "       width=\"24px\">\n",
              "    <path d=\"M0 0h24v24H0V0z\" fill=\"none\"/>\n",
              "    <path d=\"M18.56 5.44l.94 2.06.94-2.06 2.06-.94-2.06-.94-.94-2.06-.94 2.06-2.06.94zm-11 1L8.5 8.5l.94-2.06 2.06-.94-2.06-.94L8.5 2.5l-.94 2.06-2.06.94zm10 10l.94 2.06.94-2.06 2.06-.94-2.06-.94-.94-2.06-.94 2.06-2.06.94z\"/><path d=\"M17.41 7.96l-1.37-1.37c-.4-.4-.92-.59-1.43-.59-.52 0-1.04.2-1.43.59L10.3 9.45l-7.72 7.72c-.78.78-.78 2.05 0 2.83L4 21.41c.39.39.9.59 1.41.59.51 0 1.02-.2 1.41-.59l7.78-7.78 2.81-2.81c.8-.78.8-2.07 0-2.86zM5.41 20L4 18.59l7.72-7.72 1.47 1.35L5.41 20z\"/>\n",
              "  </svg>\n",
              "      </button>\n",
              "      \n",
              "  <style>\n",
              "    .colab-df-container {\n",
              "      display:flex;\n",
              "      flex-wrap:wrap;\n",
              "      gap: 12px;\n",
              "    }\n",
              "\n",
              "    .colab-df-convert {\n",
              "      background-color: #E8F0FE;\n",
              "      border: none;\n",
              "      border-radius: 50%;\n",
              "      cursor: pointer;\n",
              "      display: none;\n",
              "      fill: #1967D2;\n",
              "      height: 32px;\n",
              "      padding: 0 0 0 0;\n",
              "      width: 32px;\n",
              "    }\n",
              "\n",
              "    .colab-df-convert:hover {\n",
              "      background-color: #E2EBFA;\n",
              "      box-shadow: 0px 1px 2px rgba(60, 64, 67, 0.3), 0px 1px 3px 1px rgba(60, 64, 67, 0.15);\n",
              "      fill: #174EA6;\n",
              "    }\n",
              "\n",
              "    [theme=dark] .colab-df-convert {\n",
              "      background-color: #3B4455;\n",
              "      fill: #D2E3FC;\n",
              "    }\n",
              "\n",
              "    [theme=dark] .colab-df-convert:hover {\n",
              "      background-color: #434B5C;\n",
              "      box-shadow: 0px 1px 3px 1px rgba(0, 0, 0, 0.15);\n",
              "      filter: drop-shadow(0px 1px 2px rgba(0, 0, 0, 0.3));\n",
              "      fill: #FFFFFF;\n",
              "    }\n",
              "  </style>\n",
              "\n",
              "      <script>\n",
              "        const buttonEl =\n",
              "          document.querySelector('#df-13e03287-5283-497e-b2ee-f2de739e1aaa button.colab-df-convert');\n",
              "        buttonEl.style.display =\n",
              "          google.colab.kernel.accessAllowed ? 'block' : 'none';\n",
              "\n",
              "        async function convertToInteractive(key) {\n",
              "          const element = document.querySelector('#df-13e03287-5283-497e-b2ee-f2de739e1aaa');\n",
              "          const dataTable =\n",
              "            await google.colab.kernel.invokeFunction('convertToInteractive',\n",
              "                                                     [key], {});\n",
              "          if (!dataTable) return;\n",
              "\n",
              "          const docLinkHtml = 'Like what you see? Visit the ' +\n",
              "            '<a target=\"_blank\" href=https://colab.research.google.com/notebooks/data_table.ipynb>data table notebook</a>'\n",
              "            + ' to learn more about interactive tables.';\n",
              "          element.innerHTML = '';\n",
              "          dataTable['output_type'] = 'display_data';\n",
              "          await google.colab.output.renderOutput(dataTable, element);\n",
              "          const docLink = document.createElement('div');\n",
              "          docLink.innerHTML = docLinkHtml;\n",
              "          element.appendChild(docLink);\n",
              "        }\n",
              "      </script>\n",
              "    </div>\n",
              "  </div>\n",
              "  "
            ]
          },
          "metadata": {},
          "execution_count": 138
        }
      ]
    },
    {
      "cell_type": "code",
      "source": [
        "X = df['Tweets-String'].values\n",
        "y = df['Movement-Numerical'].values\n",
        "\n",
        "\n",
        "X_train, X_test, y_train, y_test = train_test_split(X, y, test_size=0.2, random_state=42, shuffle = False, stratify = None)\n",
        "\n",
        "pd.Series(y_train).value_counts()\n",
        "# print(len(y_train))"
      ],
      "metadata": {
        "colab": {
          "base_uri": "https://localhost:8080/"
        },
        "id": "qtJ8D_PUFMtR",
        "outputId": "2a849b12-f467-4f3a-c640-73eaeaf0d346"
      },
      "execution_count": null,
      "outputs": [
        {
          "output_type": "execute_result",
          "data": {
            "text/plain": [
              "1    248\n",
              "0    231\n",
              "dtype: int64"
            ]
          },
          "metadata": {},
          "execution_count": 211
        }
      ]
    },
    {
      "cell_type": "markdown",
      "source": [
        "# Decision Tree Classifier"
      ],
      "metadata": {
        "id": "lwe3KNrBhPdq"
      }
    },
    {
      "cell_type": "code",
      "source": [
        "from sklearn.tree import DecisionTreeClassifier\n",
        "\n",
        "stringToNum = {\"Down\": 0, \"Up\": 1}\n",
        "df['Movement-Numerical'] = df['Movement'].apply(lambda x: stringToNum[x])\n",
        "\n",
        "\n",
        "pipeline = Pipeline([\n",
        "  (\"vectorizer\", TfidfVectorizer()),\n",
        "  (\"classifier\", DecisionTreeClassifier())\n",
        "])\n",
        "\n",
        "X = df['Tweets-String'].values\n",
        "y = df['Movement-Numerical'].values\n",
        "\n",
        "\n",
        "X_train, X_test, y_train, y_test = train_test_split(X, y, test_size=0.2, random_state=42, shuffle = False, stratify = None)\n",
        "\n",
        "pipeline.fit(X_train, y_train)\n",
        "\n",
        "preds = pipeline.predict(X_test)\n",
        "accuracy = accuracy_score(preds, y_test)\n",
        "accuracy"
      ],
      "metadata": {
        "colab": {
          "base_uri": "https://localhost:8080/"
        },
        "id": "-rh1jiFDZH9V",
        "outputId": "ce884a1d-6b82-4be5-ca2f-b06cb873cea8"
      },
      "execution_count": null,
      "outputs": [
        {
          "output_type": "execute_result",
          "data": {
            "text/plain": [
              "0.5206611570247934"
            ]
          },
          "metadata": {},
          "execution_count": 146
        }
      ]
    },
    {
      "cell_type": "markdown",
      "source": [
        "Accuracy #1: 0.496\\\n",
        "Accuracy #2: 0.553\\\n",
        "Accuracy #3: 0.521"
      ],
      "metadata": {
        "id": "1I70uU2miZqN"
      }
    },
    {
      "cell_type": "markdown",
      "source": [
        "# XGB Classifier"
      ],
      "metadata": {
        "id": "QOVo-1QphVDL"
      }
    },
    {
      "cell_type": "code",
      "source": [
        "from sklearn.pipeline import Pipeline\n",
        "from xgboost import XGBClassifier\n",
        "from sklearn.metrics import accuracy_score\n",
        "\n",
        "stringToNum = {\"Down\": 0, \"Up\": 1}\n",
        "df['Movement-Numerical'] = df['Movement'].apply(lambda x: stringToNum[x])\n",
        "\n",
        "\n",
        "pipeline = Pipeline([\n",
        "  (\"vectorizer\", TfidfVectorizer()),\n",
        "  (\"classifier\", XGBClassifier())\n",
        "])\n",
        "\n",
        "X = df['Tweets-String'].values\n",
        "y = df['Movement-Numerical'].values\n",
        "\n",
        "X_train, X_test, y_train, y_test = train_test_split(X, y, test_size=0.2, random_state=42, shuffle = False, stratify = None)\n",
        "\n",
        "pipeline.fit(X_train, y_train)\n",
        "\n",
        "preds = pipeline.predict(X_test)\n",
        "accuracy = accuracy_score(preds, y_test)\n",
        "accuracy"
      ],
      "metadata": {
        "colab": {
          "base_uri": "https://localhost:8080/"
        },
        "id": "8oexN6ZHhjix",
        "outputId": "2405e5f2-29a2-4650-9183-3f873c742e12"
      },
      "execution_count": null,
      "outputs": [
        {
          "output_type": "execute_result",
          "data": {
            "text/plain": [
              "0.5785123966942148"
            ]
          },
          "metadata": {},
          "execution_count": 150
        }
      ]
    },
    {
      "cell_type": "code",
      "source": [
        "etas = [0.01, 0.1, 0.3]\n",
        "gammas = [0, 10, 100]\n",
        "max_depths = [1, 5, 10, 20]\n",
        "lambdas = [1, 10]\n",
        "alphas = [0, 5, 10]\n",
        "n_estimators = [10, 100, 500]"
      ],
      "metadata": {
        "id": "_TZt0NmECBRh"
      },
      "execution_count": null,
      "outputs": []
    },
    {
      "cell_type": "code",
      "source": [
        "best_acc = -1\n",
        "best_params = None\n",
        "for eta in etas:\n",
        "  for gamma in gammas:\n",
        "    for l in lambdas:\n",
        "      for max_depth in max_depths:\n",
        "        for n_estimator in n_estimators:\n",
        "          for alpha in alphas:\n",
        "            pipeline = Pipeline([\n",
        "              (\"vectorizer\", TfidfVectorizer()),\n",
        "              (\"classifier\", XGBClassifier(n_estimators=n_estimator, learning_rate=eta, gamma=gamma, reg_lambda=l, max_depth=max_depth, reg_alpha=alpha))\n",
        "            ])\n",
        "            pipeline.fit(X_train, y_train)\n",
        "\n",
        "            # Make predictions on the test data\n",
        "            preds = pipeline.predict(X_test)\n",
        "\n",
        "            # Calculate accuracy\n",
        "            accuracy = accuracy_score(preds, y_test)\n",
        "            if accuracy > best_acc:\n",
        "              best_acc = accuracy\n",
        "              best_params = [eta, gamma, l, max_depth, alpha]\n",
        "              print(\"Accuracy:\", accuracy)\n"
      ],
      "metadata": {
        "id": "wVAuWMSBBooq"
      },
      "execution_count": null,
      "outputs": []
    },
    {
      "cell_type": "markdown",
      "source": [
        "Accuracy #1: 0.579\\\n",
        "Accuracy #2: 0.579\\\n",
        "Accuracy #3: 0.579"
      ],
      "metadata": {
        "id": "zCnafv7QisTO"
      }
    },
    {
      "cell_type": "markdown",
      "source": [
        "# SVM Classifier"
      ],
      "metadata": {
        "id": "OHA6Kh66h-0U"
      }
    },
    {
      "cell_type": "code",
      "source": [
        "from sklearn.svm import SVC\n",
        "from sklearn.metrics import accuracy_score\n",
        "from sklearn.model_selection import train_test_split\n",
        "from sklearn.feature_extraction.text import TfidfVectorizer\n",
        "from sklearn.pipeline import Pipeline\n",
        "\n",
        "# Mapping of string labels to numerical values\n",
        "stringToNum = {\"Down\": 0, \"Up\": 1}\n",
        "df['Movement-Numerical'] = df['Movement'].map(stringToNum)\n",
        "\n",
        "# Create the pipeline with TfidfVectorizer and SVC classifier\n",
        "pipeline = Pipeline([\n",
        "    (\"vectorizer\", TfidfVectorizer()),\n",
        "    (\"classifier\", SVC())\n",
        "])\n",
        "\n",
        "# Split the data into training and test sets\n",
        "X = df['Tweets-String'].values\n",
        "y = df['Movement-Numerical'].values\n",
        "X_train, X_test, y_train, y_test = train_test_split(X, y, test_size=0.2, random_state=42, shuffle=False, stratify=None)\n",
        "\n",
        "# Fit the pipeline on the training data\n",
        "pipeline.fit(X_train, y_train)\n",
        "\n",
        "# Make predictions on the test data\n",
        "preds = pipeline.predict(X_test)\n",
        "\n",
        "# Calculate accuracy\n",
        "accuracy = accuracy_score(preds, y_test)\n",
        "print(\"Accuracy:\", accuracy)"
      ],
      "metadata": {
        "colab": {
          "base_uri": "https://localhost:8080/"
        },
        "id": "NnZFZ5c3iAfm",
        "outputId": "4686b481-0e01-4b8b-f67f-18b690c08741"
      },
      "execution_count": null,
      "outputs": [
        {
          "output_type": "stream",
          "name": "stdout",
          "text": [
            "Accuracy: 0.5867768595041323\n"
          ]
        }
      ]
    },
    {
      "cell_type": "markdown",
      "source": [
        "Accuracy #1: 0.587\\\n",
        "Accuracy #2: 0.587\\\n",
        "Accuracy #3: 0.587"
      ],
      "metadata": {
        "id": "3g9nzT3Wi33E"
      }
    },
    {
      "cell_type": "markdown",
      "source": [
        "# Stochastic Gradient Descent Classifier"
      ],
      "metadata": {
        "id": "ONRgn6iniKQV"
      }
    },
    {
      "cell_type": "code",
      "source": [
        "from sklearn.linear_model import SGDClassifier\n",
        "from sklearn.metrics import accuracy_score\n",
        "from sklearn.model_selection import train_test_split\n",
        "from sklearn.feature_extraction.text import TfidfVectorizer\n",
        "from sklearn.pipeline import Pipeline\n",
        "\n",
        "# Mapping of string labels to numerical values\n",
        "stringToNum = {\"Down\": 0, \"Up\": 1}\n",
        "df['Movement-Numerical'] = df['Movement'].map(stringToNum)\n",
        "\n",
        "# Create the pipeline with TfidfVectorizer and SGDClassifier\n",
        "pipeline = Pipeline([\n",
        "    (\"vectorizer\", TfidfVectorizer()),\n",
        "    (\"classifier\", SGDClassifier())\n",
        "])\n",
        "\n",
        "# Split the data into training and test sets\n",
        "X = df['Tweets-String'].values\n",
        "y = df['Movement-Numerical'].values\n",
        "X_train, X_test, y_train, y_test = train_test_split(X, y, test_size=0.2, random_state=42, shuffle=False, stratify=None)\n",
        "\n",
        "# Fit the pipeline on the training data\n",
        "pipeline.fit(X_train, y_train)\n",
        "\n",
        "# Make predictions on the test data\n",
        "preds = pipeline.predict(X_test)\n",
        "\n",
        "# Calculate accuracy\n",
        "accuracy = accuracy_score(preds, y_test)\n",
        "print(\"Accuracy:\", accuracy)"
      ],
      "metadata": {
        "colab": {
          "base_uri": "https://localhost:8080/"
        },
        "id": "-Tp5EoTziCxc",
        "outputId": "631cffc4-48a5-4920-a38b-1386c35969d1"
      },
      "execution_count": null,
      "outputs": [
        {
          "output_type": "stream",
          "name": "stdout",
          "text": [
            "Accuracy: 0.512396694214876\n"
          ]
        }
      ]
    },
    {
      "cell_type": "markdown",
      "source": [
        "Accuracy #1: 0.570\\\n",
        "Accuracy #2: 0.562\\\n",
        "Accuracy #3: 0.512"
      ],
      "metadata": {
        "id": "TWVWsGnDi_NW"
      }
    },
    {
      "cell_type": "markdown",
      "source": [
        "# Nearest Neighbors Classifier"
      ],
      "metadata": {
        "id": "mZZN25B9iOWV"
      }
    },
    {
      "cell_type": "code",
      "source": [
        "from sklearn.neighbors import KNeighborsClassifier\n",
        "from sklearn.metrics import accuracy_score\n",
        "from sklearn.model_selection import train_test_split\n",
        "from sklearn.feature_extraction.text import TfidfVectorizer\n",
        "from sklearn.pipeline import Pipeline\n",
        "\n",
        "# Mapping of string labels to numerical values\n",
        "stringToNum = {\"Down\": 0, \"Up\": 1}\n",
        "df['Movement-Numerical'] = df['Movement'].map(stringToNum)\n",
        "\n",
        "# Create the pipeline with TfidfVectorizer and KNeighborsClassifier\n",
        "pipeline = Pipeline([\n",
        "    (\"vectorizer\", TfidfVectorizer()),\n",
        "    (\"classifier\", KNeighborsClassifier())\n",
        "])\n",
        "\n",
        "# Split the data into training and test sets\n",
        "X = df['Tweets-String'].values\n",
        "y = df['Movement-Numerical'].values\n",
        "X_train, X_test, y_train, y_test = train_test_split(X, y, test_size=0.2, random_state=42, shuffle=False, stratify=None)\n",
        "\n",
        "# Fit the pipeline on the training data\n",
        "pipeline.fit(X_train, y_train)\n",
        "\n",
        "# Make predictions on the test data\n",
        "preds = pipeline.predict(X_test)\n",
        "\n",
        "# Calculate accuracy\n",
        "accuracy = accuracy_score(preds, y_test)\n",
        "print(\"Accuracy:\", accuracy)"
      ],
      "metadata": {
        "colab": {
          "base_uri": "https://localhost:8080/"
        },
        "id": "Yk7AaAbvjLPZ",
        "outputId": "2d30cea0-337b-4edb-e4c2-5e545b7052d2"
      },
      "execution_count": null,
      "outputs": [
        {
          "output_type": "stream",
          "name": "stdout",
          "text": [
            "Accuracy: 0.5206611570247934\n"
          ]
        }
      ]
    },
    {
      "cell_type": "markdown",
      "source": [
        "Accuracy #1: 0.521\\\n",
        "Accuracy #2: 0.521\\\n",
        "Accuracy #3: 0.521"
      ],
      "metadata": {
        "id": "s3W6yRQNjVuf"
      }
    },
    {
      "cell_type": "markdown",
      "source": [
        "# AdaBoost Classifier"
      ],
      "metadata": {
        "id": "MgiRJDljjfAv"
      }
    },
    {
      "cell_type": "code",
      "source": [
        "from sklearn.ensemble import AdaBoostClassifier\n",
        "from sklearn.metrics import accuracy_score\n",
        "from sklearn.model_selection import train_test_split\n",
        "from sklearn.feature_extraction.text import TfidfVectorizer\n",
        "from sklearn.pipeline import Pipeline\n",
        "\n",
        "# Mapping of string labels to numerical values\n",
        "stringToNum = {\"Down\": 0, \"Up\": 1}\n",
        "df['Movement-Numerical'] = df['Movement'].map(stringToNum)\n",
        "\n",
        "# Create the pipeline with TfidfVectorizer and AdaBoostClassifier\n",
        "pipeline = Pipeline([\n",
        "    (\"vectorizer\", TfidfVectorizer()),\n",
        "    (\"classifier\", AdaBoostClassifier())\n",
        "])\n",
        "\n",
        "# Split the data into training and test sets\n",
        "X = df['Tweets-String'].values\n",
        "y = df['Movement-Numerical'].values\n",
        "X_train, X_test, y_train, y_test = train_test_split(X, y, test_size=0.2, random_state=42, shuffle=False, stratify=None)\n",
        "\n",
        "# Fit the pipeline on the training data\n",
        "pipeline.fit(X_train, y_train)\n",
        "\n",
        "# Make predictions on the test data\n",
        "preds = pipeline.predict(X_test)\n",
        "\n",
        "# Calculate accuracy\n",
        "accuracy = accuracy_score(preds, y_test)\n",
        "print(\"Accuracy:\", accuracy)"
      ],
      "metadata": {
        "colab": {
          "base_uri": "https://localhost:8080/"
        },
        "id": "-pht_CiBjjD5",
        "outputId": "d6a13b86-4dae-4d71-de4d-41c21bf1bd6c"
      },
      "execution_count": null,
      "outputs": [
        {
          "output_type": "stream",
          "name": "stdout",
          "text": [
            "Accuracy: 0.5041322314049587\n"
          ]
        }
      ]
    },
    {
      "cell_type": "markdown",
      "source": [
        "Accuracy #1: 0.504\\\n",
        "Accuracy #2: 0.504\\\n",
        "Accuracy #3: 0.504"
      ],
      "metadata": {
        "id": "WNV2bgzIjp0a"
      }
    },
    {
      "cell_type": "markdown",
      "source": [
        "# MLP Classifier"
      ],
      "metadata": {
        "id": "JvpoUONeAeeI"
      }
    },
    {
      "cell_type": "code",
      "source": [
        "from sklearn.neural_network import MLPClassifier\n",
        "from sklearn.metrics import accuracy_score\n",
        "from sklearn.model_selection import train_test_split\n",
        "from sklearn.feature_extraction.text import TfidfVectorizer\n",
        "from sklearn.pipeline import Pipeline\n",
        "\n",
        "# Mapping of string labels to numerical values\n",
        "stringToNum = {\"Down\": 0, \"Up\": 1}\n",
        "df['Movement-Numerical'] = df['Movement'].map(stringToNum)\n",
        "\n",
        "# Create the pipeline with TfidfVectorizer and MLPClassifier\n",
        "pipeline = Pipeline([\n",
        "    (\"vectorizer\", TfidfVectorizer()),\n",
        "    (\"classifier\", MLPClassifier())\n",
        "])\n",
        "\n",
        "# Split the data into training and test sets\n",
        "X = df['Tweets-String'].values\n",
        "y = df['Movement-Numerical'].values\n",
        "X_train, X_test, y_train, y_test = train_test_split(X, y, test_size=0.2, random_state=42, shuffle=False, stratify=None)\n",
        "\n",
        "# Fit the pipeline on the training data\n",
        "pipeline.fit(X_train, y_train)\n",
        "\n",
        "# Make predictions on the test data\n",
        "preds = pipeline.predict(X_test)\n",
        "\n",
        "# Calculate accuracy\n",
        "accuracy = accuracy_score(preds, y_test)\n",
        "print(\"Accuracy:\", accuracy)"
      ],
      "metadata": {
        "colab": {
          "base_uri": "https://localhost:8080/"
        },
        "id": "kT9m0lTGjxKw",
        "outputId": "c0b2c4e5-b713-4eb6-9f88-4de270ee8ce1"
      },
      "execution_count": null,
      "outputs": [
        {
          "output_type": "stream",
          "name": "stdout",
          "text": [
            "Accuracy: 0.5537190082644629\n"
          ]
        }
      ]
    },
    {
      "cell_type": "markdown",
      "source": [
        "Accuracy #1: 0.554\\\n",
        "Accuracy #2: 0.537\\\n",
        "Accuracy #3: 0.554"
      ],
      "metadata": {
        "id": "NIxbWVE2j-fw"
      }
    },
    {
      "cell_type": "markdown",
      "source": [
        "# Random Forest Classifier"
      ],
      "metadata": {
        "id": "JPM9YPipkXSh"
      }
    },
    {
      "cell_type": "code",
      "source": [
        "from sklearn.ensemble import RandomForestClassifier\n",
        "from sklearn.metrics import accuracy_score\n",
        "from sklearn.model_selection import train_test_split\n",
        "from sklearn.feature_extraction.text import TfidfVectorizer\n",
        "from sklearn.pipeline import Pipeline\n",
        "\n",
        "# Mapping of string labels to numerical values\n",
        "stringToNum = {\"Down\": 0, \"Up\": 1}\n",
        "df['Movement-Numerical'] = df['Movement'].map(stringToNum)\n",
        "\n",
        "# Create the pipeline with TfidfVectorizer and RandomForestClassifier\n",
        "pipeline = Pipeline([\n",
        "    (\"vectorizer\", TfidfVectorizer()),\n",
        "    (\"classifier\", RandomForestClassifier(n_estimators=100))\n",
        "])\n",
        "\n",
        "# Split the data into training and test sets\n",
        "X = df['Tweets-String'].values\n",
        "y = df['Movement-Numerical'].values\n",
        "X_train, X_test, y_train, y_test = train_test_split(X, y, test_size=0.2, random_state=42, shuffle=False, stratify=None)\n",
        "\n",
        "# Fit the pipeline on the training data\n",
        "pipeline.fit(X_train, y_train)\n",
        "\n",
        "# Make predictions on the test data\n",
        "preds = pipeline.predict(X_test)\n",
        "\n",
        "# Calculate accuracy\n",
        "accuracy = accuracy_score(preds, y_test)\n",
        "print(\"Accuracy:\", accuracy)\n"
      ],
      "metadata": {
        "colab": {
          "base_uri": "https://localhost:8080/"
        },
        "id": "3s3-0p1ppTPU",
        "outputId": "3c250a14-1cf2-4fe1-eb93-b90699d45a0a"
      },
      "execution_count": null,
      "outputs": [
        {
          "output_type": "stream",
          "name": "stdout",
          "text": [
            "Accuracy: 0.6416666666666667\n"
          ]
        }
      ]
    },
    {
      "cell_type": "markdown",
      "source": [
        "Accuracy #1: 0.558\\\n",
        "Accuracy #2: 0.608\\\n",
        "Accuracy #3: 0.642"
      ],
      "metadata": {
        "id": "dHMBZ7uuqNOH"
      }
    },
    {
      "cell_type": "code",
      "source": [
        "n_estimators = [75, 100, 200]\n",
        "criterions = [\"gini\", \"entropy\", \"log_loss\"]\n",
        "min_samples_splits = [25, 50, 100]\n",
        "max_depths = [5, 10, 15]"
      ],
      "metadata": {
        "id": "rSiFnVRE8yOQ"
      },
      "execution_count": null,
      "outputs": []
    },
    {
      "cell_type": "code",
      "source": [
        "best_acc = -1\n",
        "best_params = None\n",
        "for n_estimate in n_estimators:\n",
        "  for criterion in criterions:\n",
        "    for min_samples_split in min_samples_splits:\n",
        "      for max_depth in max_depths:\n",
        "        pipeline = Pipeline([\n",
        "          (\"vectorizer\", TfidfVectorizer()),\n",
        "          (\"classifier\", RandomForestClassifier(n_estimators=n_estimate, criterion=criterion, min_samples_split=min_samples_split, max_depth=max_depth, n_jobs=-1))\n",
        "        ])\n",
        "        pipeline.fit(X_train, y_train)\n",
        "\n",
        "        # Make predictions on the test data\n",
        "        preds = pipeline.predict(X_test)\n",
        "\n",
        "        # Calculate accuracy\n",
        "        accuracy = accuracy_score(preds, y_test)\n",
        "        if accuracy > best_acc:\n",
        "          best_acc = accuracy\n",
        "          best_params = [n_estimate, criterion, min_samples_split, max_depth]\n",
        "          print(\"Accuracy:\", accuracy)\n"
      ],
      "metadata": {
        "colab": {
          "base_uri": "https://localhost:8080/"
        },
        "id": "q_FlMxNu9nCw",
        "outputId": "f8e1df61-7180-472c-827d-e2afc659c94c"
      },
      "execution_count": null,
      "outputs": [
        {
          "output_type": "stream",
          "name": "stdout",
          "text": [
            "Accuracy: 0.5583333333333333\n",
            "Accuracy: 0.5666666666666667\n",
            "Accuracy: 0.5916666666666667\n",
            "Accuracy: 0.6166666666666667\n",
            "Accuracy: 0.6416666666666667\n"
          ]
        }
      ]
    },
    {
      "cell_type": "code",
      "source": [
        "print(best_params)"
      ],
      "metadata": {
        "colab": {
          "base_uri": "https://localhost:8080/"
        },
        "id": "a7XQxCznAloZ",
        "outputId": "8c9d98a9-289e-4200-93a6-1b34f4410f88"
      },
      "execution_count": null,
      "outputs": [
        {
          "output_type": "stream",
          "name": "stdout",
          "text": [
            "[75, 'log_loss', 50, 15]\n"
          ]
        }
      ]
    }
  ]
}